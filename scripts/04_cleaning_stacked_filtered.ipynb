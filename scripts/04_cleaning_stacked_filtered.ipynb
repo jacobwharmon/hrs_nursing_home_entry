{
 "cells": [
  {
   "cell_type": "code",
   "execution_count": 28,
   "metadata": {},
   "outputs": [],
   "source": [
    "import pandas as pd\n",
    "from variables_dict_builder import variables_dict_builder\n",
    "\n",
    "variables_dict = variables_dict_builder()\n",
    "variables_suffixes = [*variables_dict.keys()]\n",
    "\n",
    "df = (pd.read_csv('../intermediate_data/stacked_filtered_data.csv')\n",
    "      .apply(pd.to_numeric, errors='coerce')\n",
    "      )"
   ]
  },
  {
   "cell_type": "code",
   "execution_count": 26,
   "metadata": {},
   "outputs": [
    {
     "data": {
      "text/plain": [
       "[]"
      ]
     },
     "execution_count": 26,
     "metadata": {},
     "output_type": "execute_result"
    }
   ],
   "source": [
    "# variable finder\n",
    "variable_suffix = \"edgrm\"\n",
    "[col for col in df.columns if variable_suffix in col]"
   ]
  },
  {
   "cell_type": "code",
   "execution_count": 29,
   "metadata": {},
   "outputs": [],
   "source": [
    "## WIDE TO LONG OF SELF/SPOUSE VARIABLES\n",
    "ADL_suffixes = ['batha','dressa','eata','beda','toilta','walkra','walk1a','walksa', #ADLs\n",
    "                    'shopa','phonea','moneya','mealsa','medsa','mapa', #IADLs\n",
    "                    'clim1a','climsa','chaira','stoopa','lifta','armsa','dimea','pusha','sita', # Other functional limitations\n",
    "                    ]\n",
    "\n",
    "melt_suffixes = ['nrshom', 'nhmliv', #outcomes\n",
    "                 'mstat',\n",
    "                 'urbrur',\n",
    "                 'livsib', 'momage', 'dadage',\n",
    "                 'arthre','cancre','diabe','hearte','hibpe','lunge','psyche','stroke', #Diagnoses\n",
    "                 'bmi', 'smokev'\n",
    "                 ] + ADL_suffixes\n",
    "\n",
    "# Pre-creating a dataframe with household ID X wave to join all of our wide to long outputted variables to\n",
    "waves = list(range(1, 16))\n",
    "hhidpn_waves = pd.MultiIndex.from_product([df['hhidpn'].unique(), waves], names=['hhidpn', 'wave'])\n",
    "final_df = pd.DataFrame(index=hhidpn_waves).reset_index()\n",
    "\n",
    "for suffix in melt_suffixes:\n",
    "    # Generate the self and spouse columns for the current suffix\n",
    "    self_columns = [f'r{i}{suffix}' for i in range(1, 16)]\n",
    "    spouse_columns = [f's{i}{suffix}' for i in range(1, 16)]\n",
    "    \n",
    "    if suffix in ADL_suffixes:\n",
    "        self_columns = self_columns[1:]; spouse_columns = spouse_columns[1:]\n",
    "    \n",
    "    # Melt the self for this suffix\n",
    "    self_df = df.melt(id_vars=['hhidpn'], value_vars=self_columns,\n",
    "                          var_name='wave', value_name=f'{suffix}_self')\n",
    "    self_df['wave'] = self_df['wave'].str.extract('(\\d+)').astype(int)\n",
    "    \n",
    "    # Melt the spouse for this suffix\n",
    "    spouse_df = df.melt(id_vars=['hhidpn'], value_vars=spouse_columns,\n",
    "                        var_name='wave', value_name=f'{suffix}_spouse')\n",
    "    spouse_df['wave'] = spouse_df['wave'].str.extract('(\\d+)').astype(int)\n",
    "\n",
    "    \n",
    "    merged_df = pd.merge(self_df, spouse_df, on=['hhidpn', 'wave'])\n",
    "    \n",
    "    final_df = pd.merge(final_df, merged_df[['hhidpn', 'wave', f'{suffix}_self', f'{suffix}_spouse']], \n",
    "                        on=['hhidpn', 'wave'], how='left')\n",
    "    \n",
    "final_df = final_df.sort_values(by=['hhidpn', 'wave'])"
   ]
  },
  {
   "cell_type": "code",
   "execution_count": 30,
   "metadata": {},
   "outputs": [],
   "source": [
    "## WIDE TO LONG OF HOUSEHOLD VARIABLES\n",
    "household_suffixes = ['hhres','child','atotn', 'itot', 'inpov']\n",
    "\n",
    "for suffix in household_suffixes:\n",
    "    hh_columns = [f'h{i}{suffix}' for i in range(1, 16)]\n",
    "    \n",
    "    # Melt the self for this suffix\n",
    "    hh_df = df.melt(id_vars=['hhidpn'], value_vars=hh_columns,\n",
    "                          var_name='wave', value_name=f'{suffix}_household')\n",
    "    hh_df['wave'] = hh_df['wave'].str.extract('(\\d+)').astype(int)\n",
    "    \n",
    "    final_df = pd.merge(final_df, hh_df[['hhidpn', 'wave', f'{suffix}_household']], \n",
    "                        on=['hhidpn', 'wave'], how='left')"
   ]
  },
  {
   "cell_type": "code",
   "execution_count": 31,
   "metadata": {},
   "outputs": [],
   "source": [
    "## JOINING OF WAVE PERSISTENT VARIABLES\n",
    "wave_persistent_variables = ['radyear', 'ragender', 'rahispan', 'rarelig', 'ravetrn', 'raedyrs', 'raedegrm', 'raeduc', 'rameduc', 'rafeduc']\n",
    "final_df = pd.merge(final_df, df[['hhidpn'] + wave_persistent_variables],\n",
    "                    on=['hhidpn'], how='left')"
   ]
  },
  {
   "cell_type": "code",
   "execution_count": 42,
   "metadata": {},
   "outputs": [],
   "source": [
    "# Removing observations once they're dead\n",
    "import numpy as np\n",
    "\n",
    "vars_to_check_na = final_df.columns.difference([\"hhidpn\", \"wave\"] + wave_persistent_variables)\n",
    "final_df = final_df.loc[np.logical_not(final_df[vars_to_check_na].isna().all(axis=1))]"
   ]
  },
  {
   "cell_type": "code",
   "execution_count": null,
   "metadata": {},
   "outputs": [
    {
     "name": "stderr",
     "output_type": "stream",
     "text": [
      "C:\\Users\\jacob\\AppData\\Local\\Temp\\ipykernel_12508\\4224155785.py:2: SettingWithCopyWarning: \n",
      "A value is trying to be set on a copy of a slice from a DataFrame.\n",
      "Try using .loc[row_indexer,col_indexer] = value instead\n",
      "\n",
      "See the caveats in the documentation: https://pandas.pydata.org/pandas-docs/stable/user_guide/indexing.html#returning-a-view-versus-a-copy\n",
      "  final_df[\"nhmliv_self_next_wave\"] = final_df.groupby(\"hhidpn\")[\"nhmliv_self\"].shift(-1)\n"
     ]
    }
   ],
   "source": [
    "# Construction of Outcome Y:=\"next year nursing home entry\" and dropping every observation after they enter nursing home or die\n",
    "final_df[\"nhmliv_self_next_wave\"] = final_df.groupby(\"hhidpn\")[\"nhmliv_self\"].shift(-1)\n",
    "\n",
    "def mask_group(group):\n",
    "    first_one_idx = group[group[\"nhmliv_self_next_wave\"] == 1].index.min()  # Find the index of the first occurrence of nursing home entrance next wave\n",
    "    if pd.isna(first_one_idx):  # If there are no 1s, keep all rows\n",
    "        return group\n",
    "    return group.loc[:first_one_idx]  # Keep rows up to and including the first occurrence of var_a = 1\n",
    "\n",
    "# Apply the mask to each person_id group\n",
    "final_df = final_df.groupby(\"hhidpn\", group_keys=False).apply(mask_group)\n",
    "\n",
    "final_df = final_df.dropna(subset=[\"nhmliv_self_next_wave\"])\n",
    "\n",
    "# 2963 of 41772 hhidpns enter a nursing home"
   ]
  },
  {
   "cell_type": "code",
   "execution_count": 51,
   "metadata": {},
   "outputs": [
    {
     "data": {
      "text/plain": [
       "2963.0"
      ]
     },
     "execution_count": 51,
     "metadata": {},
     "output_type": "execute_result"
    }
   ],
   "source": [
    "final_df['nhmliv_self_next_wave'].sum()"
   ]
  },
  {
   "cell_type": "code",
   "execution_count": null,
   "metadata": {},
   "outputs": [],
   "source": [
    "# One hot encoding for categoricals"
   ]
  },
  {
   "cell_type": "code",
   "execution_count": null,
   "metadata": {},
   "outputs": [],
   "source": [
    "# Standardization of continuous variables"
   ]
  }
 ],
 "metadata": {
  "kernelspec": {
   "display_name": "health_index",
   "language": "python",
   "name": "python3"
  },
  "language_info": {
   "codemirror_mode": {
    "name": "ipython",
    "version": 3
   },
   "file_extension": ".py",
   "mimetype": "text/x-python",
   "name": "python",
   "nbconvert_exporter": "python",
   "pygments_lexer": "ipython3",
   "version": "3.11.8"
  }
 },
 "nbformat": 4,
 "nbformat_minor": 2
}
