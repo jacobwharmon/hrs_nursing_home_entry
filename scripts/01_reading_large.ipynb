{
 "cells": [
  {
   "cell_type": "code",
   "execution_count": null,
   "metadata": {},
   "outputs": [],
   "source": [
    "# import zipfile\n",
    "\n",
    "# def unzip_file(zip_path, extract_to):\n",
    "#     with zipfile.ZipFile(zip_path, 'r') as zip_ref:\n",
    "#         zip_ref.extractall(extract_to)\n",
    "\n",
    "# zip_path = '..\\\\raw_data\\\\randhrs1992_2020v2_STATA.zip'\n",
    "# extract_to = '..\\\\raw_data'\n",
    "\n",
    "# unzip_file(zip_path, extract_to)"
   ]
  },
  {
   "cell_type": "code",
   "execution_count": 1,
   "metadata": {},
   "outputs": [
    {
     "name": "stdout",
     "output_type": "stream",
     "text": [
      "Total memory: 7.85 GB\n",
      "Available memory: 4.24 GB\n",
      "Used memory: 3.60 GB\n",
      "Memory usage: 45.9%\n"
     ]
    }
   ],
   "source": [
    "import psutil\n",
    "\n",
    "# Get system memory information\n",
    "memory_info = psutil.virtual_memory()\n",
    "\n",
    "# Display memory information\n",
    "print(f\"Total memory: {memory_info.total / (1024 ** 3):.2f} GB\")\n",
    "print(f\"Available memory: {memory_info.available / (1024 ** 3):.2f} GB\")\n",
    "print(f\"Used memory: {memory_info.used / (1024 ** 3):.2f} GB\")\n",
    "print(f\"Memory usage: {memory_info.percent}%\")"
   ]
  },
  {
   "cell_type": "code",
   "execution_count": 6,
   "metadata": {},
   "outputs": [],
   "source": [
    "import pyreadstat\n",
    "\n",
    "df, meta = pyreadstat.read_dta('..\\\\raw_data\\\\randhrs1992_2020v2.dta') # 7min with adequate memory"
   ]
  },
  {
   "cell_type": "code",
   "execution_count": 7,
   "metadata": {},
   "outputs": [],
   "source": [
    "num_subsets = 50\n",
    "\n",
    "rows_per_subset = len(df) // num_subsets\n",
    "\n",
    "for i in range(num_subsets):\n",
    "    start_row = i * rows_per_subset\n",
    "    end_row = start_row + rows_per_subset\n",
    "    \n",
    "    # Handle the last subset to include any remaining rows\n",
    "    if i == num_subsets - 1:\n",
    "        subset_df = df.iloc[start_row:]\n",
    "    else:\n",
    "        subset_df = df.iloc[start_row:end_row]\n",
    "    \n",
    "    subset_df.to_csv(f'..\\\\intermediate_data\\\\wide\\\\subset_{i+1}.csv', index=False)"
   ]
  }
 ],
 "metadata": {
  "kernelspec": {
   "display_name": "health_index",
   "language": "python",
   "name": "python3"
  },
  "language_info": {
   "codemirror_mode": {
    "name": "ipython",
    "version": 3
   },
   "file_extension": ".py",
   "mimetype": "text/x-python",
   "name": "python",
   "nbconvert_exporter": "python",
   "pygments_lexer": "ipython3",
   "version": "3.11.8"
  }
 },
 "nbformat": 4,
 "nbformat_minor": 2
}
