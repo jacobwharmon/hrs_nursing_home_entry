{
 "cells": [
  {
   "cell_type": "code",
   "execution_count": 1,
   "metadata": {},
   "outputs": [],
   "source": [
    "import pandas as pd\n",
    "import os\n",
    "\n",
    "FILTERED_DATA_DIR = '../intermediate_data/filtered_columns'\n",
    "\n",
    "data_frames = []\n",
    "\n",
    "for i in range(1, 51):  # Loop from 1 to 50\n",
    "    file_path = os.path.join(FILTERED_DATA_DIR, f'filtered_{i}.csv')\n",
    "    temp_df = pd.read_csv(file_path)\n",
    "    data_frames.append(temp_df)\n",
    "\n",
    "stacked_df = pd.concat(data_frames, ignore_index=True)\n",
    "\n",
    "stacked_df.to_csv('../intermediate_data/stacked_filtered_data.csv', index=False)"
   ]
  }
 ],
 "metadata": {
  "kernelspec": {
   "display_name": "health_index",
   "language": "python",
   "name": "python3"
  },
  "language_info": {
   "codemirror_mode": {
    "name": "ipython",
    "version": 3
   },
   "file_extension": ".py",
   "mimetype": "text/x-python",
   "name": "python",
   "nbconvert_exporter": "python",
   "pygments_lexer": "ipython3",
   "version": "3.11.8"
  }
 },
 "nbformat": 4,
 "nbformat_minor": 2
}
